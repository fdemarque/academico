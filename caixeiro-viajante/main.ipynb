{
 "cells": [
  {
   "cell_type": "code",
   "execution_count": null,
   "metadata": {},
   "outputs": [],
   "source": []
  },
  {
   "cell_type": "markdown",
   "metadata": {},
   "source": [
    "individuos = [A,B,C]\n",
    "\n",
    "POPULAÇÃO = \n",
    "[A, B, C]\n",
    "[A, C, B]\n",
    "[B, A, C]\n",
    "[B, C, A]\n",
    "[C, A, B]\n",
    "[C, B, A]\n",
    "\n",
    "        IF\n",
    "       / | \\\n",
    "    AND  [A,B,C]  NULL\n",
    "   /   \\\n",
    "  <     <\n",
    " / \\   / \\\n",
    "d[A,B] d[A,C] d[B,C] d[A,C]\n",
    "\n",
    "[A, B, C] se  distancias[A][B] < distancias[A][C] e distancias[B][C]< distancias[A][C]\n",
    "[A, C, B] se distancias[A][B] < distancias[A][C] e distancias[B][C]=>distancias[A][C]\n",
    "[B, A, C] se  distancias[A][B] =>distancias[A][C] e distancias[A][C]< distancias[B][C]\n",
    "[B, C, A] se  distancias[A][B] =>distancias[A][C] e distancias[A][C]=>distancias[B][C]\n",
    "\n",
    "\n"
   ]
  },
  {
   "cell_type": "code",
   "execution_count": null,
   "metadata": {},
   "outputs": [],
   "source": []
  }
 ],
 "metadata": {
  "language_info": {
   "name": "python"
  }
 },
 "nbformat": 4,
 "nbformat_minor": 2
}
